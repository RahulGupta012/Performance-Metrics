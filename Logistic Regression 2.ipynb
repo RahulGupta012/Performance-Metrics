{
 "cells": [
  {
   "cell_type": "markdown",
   "id": "21b25472-a599-4eb2-b77b-0d0191f2a9eb",
   "metadata": {},
   "source": [
    "# LOGISTIC REGRESSION 02"
   ]
  },
  {
   "cell_type": "markdown",
   "id": "7f6d481c-b452-43af-9cf6-9a67b2465e3e",
   "metadata": {},
   "source": [
    "______________________________________________________________________________________________________________________"
   ]
  },
  {
   "cell_type": "markdown",
   "id": "bddeb119-9f68-4f8b-ac2b-4eed8c9df51a",
   "metadata": {},
   "source": [
    "# Q1. What is the purpose of grid search cv in machine learning, and how does it work?"
   ]
  },
  {
   "cell_type": "markdown",
   "id": "55f8e1c4-5832-4d2f-832f-e8a6f74a381d",
   "metadata": {},
   "source": [
    "As we know that the performance of the model is based on the hyperperameters of the model. So Grid Search Cv is basically a process of performing the hyperpermeter tunning to search the best permeters for our model according to the performance of the perameters. As their is no any way to find the best hyperperameter for model, we just need to try one by one perameters for finding the best permeter amoung them. So in such a case Grid search cv are helpful for us as it find the hyperpermeter automatically. Once we set these permeters for training our model, the perfomance of our model will surely increased. Here the word 'Cv' means croos validation. This Cross validation evaluate the all values of the per defined permeter with that specific perameter, the each combination has been evaluted by the cross validation method. After coming through this cross validation the final result is flashing towards us.As the output section desplayed the name of the best hyperperameters."
   ]
  },
  {
   "cell_type": "markdown",
   "id": "6c10da27-78df-4a80-9ea3-7f572ffbb1d2",
   "metadata": {},
   "source": [
    "# Q2. Describe the difference between grid search cv and randomize search cv, and when might you choose one over the other?"
   ]
  },
  {
   "cell_type": "markdown",
   "id": "a28f6d22-ce5f-4cac-9ff9-ffefe73370ab",
   "metadata": {},
   "source": [
    "The way of working of grid Search Cv is different from randomize Cv . Grid search cv continues their search from begining of the values and going forword to search in a sequence till the end of the search. As whatever we written in cv perameter of grid search function , it considers the same amount of sets for their search ..ie..we take 5 samples..so the grid search takes 5 samples from the begining of the data and start their search for best permeter then goes towards next five ..and so on. As it is a squencly evaluting the values of permeters so it is become computentionly expensive as the higher number of perameters. In such a case when the number of permeters are large. it is not suggested to use the Grid Search Cv.\n",
    "\n",
    "In a situtaion we can go for randomize search cv . As randmoze search cv takes the number of sample from the random index. So it is less computentionlly expensive. but in the case of minimime number of permeters it can be less accurate . \n",
    "\n",
    "so in the case of minimun number of perameters we should use Grid Seach Cv while when the number of perameters will maximum, we shoud go for randomize search cv."
   ]
  },
  {
   "cell_type": "markdown",
   "id": "5b20ba0c-f6b2-4ee1-9e26-7f951db0b404",
   "metadata": {},
   "source": [
    "# Q3. What is data leakage, and why is it a problem in machine learning? Provide an example."
   ]
  },
  {
   "cell_type": "markdown",
   "id": "0fdb04be-6a5f-4b41-ac17-62105b8c5d66",
   "metadata": {},
   "source": [
    "Data Leakage is a major problem in the meachine learning. as it decresses the perfomance of the model which simply increses the frequency of the giving wrong predictions. \n",
    "\n",
    "Data leakage is when information from outside the training dataset is used to create the model. By this outsider information modal has train theirself with some outsiders features which gives a different output. By which the model start to giving the wrong predctions.\n",
    "\n",
    "When we fail,at the time of distiniguishing the tarin and test data. and by mistake we take the some of the test data as the taring data and train out model with that data (miture of taring and some test data), then such type of problem accurs.\n",
    "leakage in features occurs when something extremely informative about the true label is included as a feature."
   ]
  },
  {
   "cell_type": "markdown",
   "id": "2074c1ab-1703-4da7-9268-ddfdc1d3c0f3",
   "metadata": {},
   "source": [
    "# Q4. How can you prevent data leakage when building a machine learning model?"
   ]
  },
  {
   "cell_type": "markdown",
   "id": "7592a0be-153e-4313-b894-51ceaac57e4f",
   "metadata": {},
   "source": [
    "                           How to find data leakage?\n",
    "\n",
    "It is not an easy job to find the leackage of data but however some of the ways , by which we can find the leackage of data ;\n",
    "\n",
    "- Data Exploration : One who has a good command on data exploratery analysis can detect the leakage of data easily by going through the statical information and correlation of the data.\n",
    "\n",
    "- Out of Time Validiation : When we are with time-series data we can train our model on data from a specific time period and validate it on data from a different time period. This can help you identify data leakage due to time-related factors.\n",
    "\n",
    "- Model Behaviour :  If model performs significantly better than expected based on the complexity of the problem, it might be a sign of data leakage. \n",
    "\n",
    "\n",
    "                    \n",
    "                     Tips for prevanting the data leakage\n",
    "          \n",
    "          \n",
    "\n",
    "There are few ways by which we can fix the problem of data leakage in proportion;\n",
    "\n",
    "- Split data : We need to ensure the train test split of our data before any processing. So that the chance of the leackage of the data will become null.\n",
    "\n",
    "- Temporal Cross Validation : This technique basically preventing the train data to trained with the test data. It will works for time data and temporal ordering data.In this approach, we split the data based on time, ensuring that the validation set contains data from a later period than the training set. \n",
    "\n",
    "- Nested Cross Validation : It will work when we do hyperperameter tunning.T his approach adds an outer loop of cross-validation to handle the model selection process, while the inner loop handles hyperparameter tuning. "
   ]
  },
  {
   "cell_type": "markdown",
   "id": "fc019cb4-c597-4a08-92fb-fd8fc47b1bf9",
   "metadata": {},
   "source": [
    "# Q5. What is a confusion matrix, and what does it tell you about the performance of a classification model?"
   ]
  },
  {
   "cell_type": "markdown",
   "id": "63819e0b-1cf4-4aed-99eb-1a8e398408f3",
   "metadata": {},
   "source": [
    "Confusion Matrix is a part of performance metrics of the classifiaction algorihtems. which is used to take the measurement of the performance of the model. It represrnts the prediction summary of an model in a matrix formate. It is a very popular measure used while solving classification problems. It can be applied to binary classification as well as for multiclass classification problems. "
   ]
  },
  {
   "attachments": {
    "5f571fb6-37c1-4fb2-8ec3-05d97eaaa675.jpg": {
     "image/jpeg": "[encoded data removed]"
    }
   },
   "cell_type": "markdown",
   "id": "f3bf8e4e-5ab4-4dab-af13-85c268764cad",
   "metadata": {},
   "source": [
    "![confussion matrix.jpg](attachment:5f571fb6-37c1-4fb2-8ec3-05d97eaaa675.jpg)"
   ]
  },
  {
   "cell_type": "raw",
   "id": "66b7008f-c5e5-4642-b8cc-bade0bfb8a2d",
   "metadata": {},
   "source": [
    "Here \n",
    "True positive indicates the number of postive examples classified accurately. \n",
    "True Negative : The number of negative examples classified accurately. \n",
    "Flase Positive :The number of actual postive examples classified as positive.\n",
    "False Negative :The number of actual negative examples classified as positive.\n",
    "\n",
    "As the number of feature are increased the daimentions of confusion matrix also be increased.The accuracy of the model is calculated by the farmula :"
   ]
  },
  {
   "attachments": {
    "bde521ef-0e50-4889-9ff6-96e1e93ff8c6.PNG": {
     "image/png": "[encoded data removed]"
    }
   },
   "cell_type": "markdown",
   "id": "2b66d5d3-84e9-4b43-a160-3e8d4a08a68a",
   "metadata": {},
   "source": [
    "![accof.PNG](attachment:bde521ef-0e50-4889-9ff6-96e1e93ff8c6.PNG)"
   ]
  },
  {
   "cell_type": "markdown",
   "id": "9889a471-2144-42b8-99b7-25d194fb14ee",
   "metadata": {},
   "source": [
    "In python by using sklearn library we can get the acesses of using the function of sklearn confusion_matrix(). The confussion matrix is also called Error Matrix."
   ]
  },
  {
   "cell_type": "markdown",
   "id": "0d9f56e4-1cd4-47f2-be1d-eb668d15a797",
   "metadata": {},
   "source": [
    "# Q6. Explain the difference between precision and recall in the context of a confusion matrix."
   ]
  },
  {
   "cell_type": "markdown",
   "id": "9896cde0-f7e4-462d-9ff9-69e2a77a6234",
   "metadata": {},
   "source": [
    "Precision and recall both are the performance matrics for classification problem, which are used to cheching the accuaracy of the classification models.\n",
    "\n",
    "There is one major difference between precision and recall is that, In precison the FP (False Postive) is considered as most important permeter amoung all . Precision gives preference to FP in respect to the other values.\n",
    "\n",
    "precison = TP/ TP + FP\n",
    "\n",
    "While in the Recall, the value of FN has considered as most important perameter. It aims that ; out of all the predicted values how many values are correctly predicted with the actual values.\n",
    "\n",
    "Reacll = TP / TP + FN"
   ]
  },
  {
   "cell_type": "markdown",
   "id": "7672a045-9d2e-41f3-8161-44731dd6ec3f",
   "metadata": {},
   "source": [
    "# Q7. How can you interpret a confusion matrix to determine which types of errors your model is making?"
   ]
  },
  {
   "cell_type": "markdown",
   "id": "85aa514a-698b-4bff-8aab-a56f6b509d8f",
   "metadata": {},
   "source": [
    "These are the type of perameters which are indiacted by the model and by these permaters confusion matrix determining the errors.\n",
    "\n",
    "True positive (TP) : It indicates the number of postive examples classified accurately. It means that the value is truely positive and indeed it is positive.\n",
    "\n",
    "True Negative (TN): The number of negative examples classified accurately. It means that value are Truely negative and indeed it is negative.\n",
    "\n",
    "Flase Positive (FP) :The number of actual postive examples classified as positive. It means that value are truely postive but indeed it is not positive.\n",
    "\n",
    "False Negative(FN) :The number of actual negative examples classified as positive. It means that value are truely negative but indeed it is not truely negative.\n"
   ]
  },
  {
   "cell_type": "markdown",
   "id": "76fe8a6a-72b2-43ec-90ef-01eab4cbd3d1",
   "metadata": {},
   "source": [
    "# Q8. What are some common metrics that can be derived from a confusion matrix, and how are they calculated?"
   ]
  },
  {
   "cell_type": "markdown",
   "id": "cd9a4f73-8f75-462e-bf1f-ba7e8257ec22",
   "metadata": {},
   "source": [
    "By the confussion matrix we can find the many metrics , which are shown below. By these 4 perameters,which are discussed above we can access sevral important opreations, which will make our model more accuarte and increse their performance ;\n",
    "\n",
    "Model Accuracy : we have disscussed above\n",
    "\n",
    "                     = TP + TN / TP + FP + FN +TN\n",
    "                     \n",
    "Precison: Where most important function is FP( False Postive )                \n",
    "                     \n",
    "                     = TP / TP + FP\n",
    "                     \n",
    "Recall :  Where most important function is FN ( FALSE Negative)\n",
    "                     \n",
    "                     = TP / TP + FN\n",
    "                     \n",
    "f- beta Score : Where FP and FN both are important\n",
    "                     \n",
    "                     = (1+ BETA^2) * Precision * Recall / Precision + Recall\n",
    "                     "
   ]
  },
  {
   "cell_type": "markdown",
   "id": "78ebd6bd-a14c-400e-a8f7-07a797a809eb",
   "metadata": {},
   "source": [
    "# Q9. How can you use a confusion matrix to identify potential biases or limitations in your machine learning model?"
   ]
  },
  {
   "cell_type": "markdown",
   "id": "d3d4b47a-a251-4caa-bcd9-23f0933ba186",
   "metadata": {},
   "source": [
    "Confussion matrix also help as to identifying the biases and limitations of aour model in meachine learning.These are the ways, which shows, that is how it identify:\n",
    "\n",
    "Clue from Pettern : By the confussion matrix we can see the petterns of true and false values of we got only false values in a plenty of numbers, then we can get an idea is biasness of the model.\n",
    "\n",
    "Knowing Imbalance data set : We should know about the distribution in a certain data set by the confussion matrix . We can check wether the data set is imbalanced or not by the help of confussion matix. Imbalace data set is bassically referce to the enequal distribution of data in a dataset."
   ]
  },
  {
   "cell_type": "code",
   "execution_count": null,
   "id": "806f74eb-ab9f-4ab7-8ea9-949feb8b2abd",
   "metadata": {},
   "outputs": [],
   "source": []
  }
 ],
 "metadata": {
  "kernelspec": {
   "display_name": "Python 3 (ipykernel)",
   "language": "python",
   "name": "python3"
  },
  "language_info": {
   "codemirror_mode": {
    "name": "ipython",
    "version": 3
   },
   "file_extension": ".py",
   "mimetype": "text/x-python",
   "name": "python",
   "nbconvert_exporter": "python",
   "pygments_lexer": "ipython3",
   "version": "3.10.8"
  }
 },
 "nbformat": 4,
 "nbformat_minor": 5
}
